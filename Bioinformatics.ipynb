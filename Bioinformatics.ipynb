{
  "nbformat": 4,
  "nbformat_minor": 0,
  "metadata": {
    "colab": {
      "name": "editedbio.ipynb",
      "provenance": [],
      "collapsed_sections": []
    },
    "kernelspec": {
      "name": "python3",
      "display_name": "Python 3"
    }
  },
  "cells": [
    {
      "cell_type": "code",
      "metadata": {
        "id": "pGjYzI9_mHjR",
        "colab_type": "code",
        "outputId": "7ebe38c7-f088-4892-958e-2686264ee107",
        "colab": {
          "base_uri": "https://localhost:8080/",
          "height": 142
        }
      },
      "source": [
        "import pandas as pd\n",
        "!pip install biopython\n",
        "\n",
        "from Bio import SeqIO"
      ],
      "execution_count": 1,
      "outputs": [
        {
          "output_type": "stream",
          "text": [
            "Collecting biopython\n",
            "\u001b[?25l  Downloading https://files.pythonhosted.org/packages/83/3d/e0c8a993dbea1136be90c31345aefc5babdd5046cd52f81c18fc3fdad865/biopython-1.76-cp36-cp36m-manylinux1_x86_64.whl (2.3MB)\n",
            "\u001b[K     |████████████████████████████████| 2.3MB 2.8MB/s \n",
            "\u001b[?25hRequirement already satisfied: numpy in /usr/local/lib/python3.6/dist-packages (from biopython) (1.18.2)\n",
            "Installing collected packages: biopython\n",
            "Successfully installed biopython-1.76\n"
          ],
          "name": "stdout"
        }
      ]
    },
    {
      "cell_type": "code",
      "metadata": {
        "id": "xA9L6kvf0AIW",
        "colab_type": "code",
        "cellView": "form",
        "colab": {}
      },
      "source": [
        "#@title Reading the rgi genes into dataframe\n"
      ],
      "execution_count": 0,
      "outputs": []
    },
    {
      "cell_type": "code",
      "metadata": {
        "id": "57C46s7KmZcg",
        "colab_type": "code",
        "colab": {}
      },
      "source": [
        "records1=pd.read_csv(\"SA20025297_rgi.txt\",sep=\"\\t\")\n",
        "records2=pd.read_csv(\"SA20025921_rgi.txt\",sep=\"\\t\")\n",
        "records3=pd.read_csv(\"SA20026234_rgi.txt\",sep=\"\\t\")\n",
        "records4=pd.read_csv(\"SA20026289_rgi.txt\",sep=\"\\t\")\n",
        "records5=pd.read_csv(\"SA20031783_rgi.txt\",sep=\"\\t\")\n",
        "records6=pd.read_csv(\"SA20035215_rgi.txt\",sep=\"\\t\")\n",
        "#records7=pd.read_csv(\"SA20051472_rgi.txt\",sep=\"\\t\")\n",
        "records8=pd.read_csv(\"SA20053897_rgi.txt\",sep=\"\\t\")\n",
        "records9=pd.read_csv(\"SA20054926_rgi.txt\",sep=\"\\t\")\n",
        "records10=pd.read_csv(\"SA20022156_rgi.txt\",sep=\"\\t\")"
      ],
      "execution_count": 0,
      "outputs": []
    },
    {
      "cell_type": "code",
      "metadata": {
        "id": "VvxzVX3x-m1A",
        "colab_type": "code",
        "outputId": "a782b2d1-7a29-44f1-c8ed-f3fc22d4ea94",
        "colab": {
          "base_uri": "https://localhost:8080/",
          "height": 667
        }
      },
      "source": [
        "records7['Drug Class']"
      ],
      "execution_count": 88,
      "outputs": [
        {
          "output_type": "execute_result",
          "data": {
            "text/plain": [
              "0                                  cephalosporin; penam\n",
              "1     macrolide antibiotic; aminoglycoside antibioti...\n",
              "2     macrolide antibiotic; aminoglycoside antibioti...\n",
              "3     tetracycline antibiotic; benzalkonium chloride...\n",
              "4     fluoroquinolone antibiotic; lincosamide antibi...\n",
              "5     aminoglycoside antibiotic; aminocoumarin antib...\n",
              "6                                            fosfomycin\n",
              "7                             aminoglycoside antibiotic\n",
              "8                                  cephalosporin; penam\n",
              "9                                    peptide antibiotic\n",
              "10                                   peptide antibiotic\n",
              "11                                 cephalosporin; penam\n",
              "12    fluoroquinolone antibiotic; cephalosporin; gly...\n",
              "13    fluoroquinolone antibiotic; cephalosporin; gly...\n",
              "14                                   peptide antibiotic\n",
              "15                            aminoglycoside antibiotic\n",
              "16                           fluoroquinolone antibiotic\n",
              "17                           fluoroquinolone antibiotic\n",
              "18                           fluoroquinolone antibiotic\n",
              "19    fluoroquinolone antibiotic; cephalosporin; gly...\n",
              "20    macrolide antibiotic; fluoroquinolone antibiot...\n",
              "21    fluoroquinolone antibiotic; monobactam; carbap...\n",
              "22                            nitroimidazole antibiotic\n",
              "23    aminoglycoside antibiotic; aminocoumarin antib...\n",
              "24                             aminocoumarin antibiotic\n",
              "25              monobactam; cephalosporin; penam; penem\n",
              "26                            aminoglycoside antibiotic\n",
              "27                                 cephalosporin; penam\n",
              "28                     cephalosporin; cephamycin; penam\n",
              "29                                           fosfomycin\n",
              "30                                           fosfomycin\n",
              "31                                 elfamycin antibiotic\n",
              "32    fluoroquinolone antibiotic; cephalosporin; gly...\n",
              "33    fluoroquinolone antibiotic; monobactam; carbap...\n",
              "34    fluoroquinolone antibiotic; cephalosporin; gly...\n",
              "35    fluoroquinolone antibiotic; cephalosporin; gly...\n",
              "Name: Drug Class, dtype: object"
            ]
          },
          "metadata": {
            "tags": []
          },
          "execution_count": 88
        }
      ]
    },
    {
      "cell_type": "code",
      "metadata": {
        "id": "f9EL-KrAMJ_L",
        "colab_type": "code",
        "colab": {}
      },
      "source": [
        "def parti(c):\n",
        "  head,sep,tail=c.partition(\"_\")\n",
        "  return (head)\n",
        "\n"
      ],
      "execution_count": 0,
      "outputs": []
    },
    {
      "cell_type": "code",
      "metadata": {
        "id": "wKE0wZZaY_PW",
        "colab_type": "code",
        "colab": {}
      },
      "source": [
        "newcon1=[]\n",
        "for i in records1[\"Contig\"]:\n",
        "  newcon1.append(parti(i))\n",
        "records1['req_cont']=newcon1\n",
        "\n",
        "\n",
        "newcon2=[]\n",
        "for i in records2[\"Contig\"]:\n",
        "  newcon2.append(parti(i))\n",
        "records2['req_cont']=newcon2\n",
        "\n",
        "\n",
        "newcon3=[]\n",
        "for i in records3[\"Contig\"]:\n",
        "  newcon3.append(parti(i))\n",
        "records3['req_cont']=newcon3\n",
        "\n",
        "newcon4=[]\n",
        "for i in records4[\"Contig\"]:\n",
        "  newcon4.append(parti(i))\n",
        "records4['req_cont']=newcon4\n",
        "\n",
        "newcon5=[]\n",
        "for i in records5[\"Contig\"]:\n",
        "  newcon5.append(parti(i))\n",
        "records5['req_cont']=newcon5\n",
        "\n",
        "newcon6=[]\n",
        "for i in records6[\"Contig\"]:\n",
        "  newcon6.append(parti(i))\n",
        "records6['req_cont']=newcon6\n",
        "\n",
        "newcon8=[]\n",
        "for i in records8[\"Contig\"]:\n",
        "  newcon8.append(parti(i))\n",
        "records8['req_cont']=newcon8\n",
        "\n",
        "newcon9=[]\n",
        "for i in records9[\"Contig\"]:\n",
        "  newcon9.append(parti(i))\n",
        "records9['req_cont']=newcon9\n",
        "\n",
        "newcon10=[]\n",
        "for i in records10[\"Contig\"]:\n",
        "  newcon10.append(parti(i))\n",
        "records10['req_cont']=newcon10\n"
      ],
      "execution_count": 0,
      "outputs": []
    },
    {
      "cell_type": "code",
      "metadata": {
        "id": "R5Cn9rJ7mdw-",
        "colab_type": "code",
        "colab": {}
      },
      "source": [
        "# rgi_gene_frame=pd.DataFrame()\n",
        "# rgi_gene_frame['Start']=records['Start']\n",
        "# rgi_gene_frame['Stop']=records['Stop']\n",
        "# rgi_gene_frame['Strand']=records['Orientation']\n",
        "# rgi_gene_frame['Predicted_DNA']=records['Predicted_DNA']\n",
        "# rgi_gene_frame['Drugclass']=records['Drug Class']\n",
        "# rgi_gene_frame['Predicted_Protein']=records['Predicted_Protein']"
      ],
      "execution_count": 0,
      "outputs": []
    },
    {
      "cell_type": "code",
      "metadata": {
        "id": "kX0nEdxc1I8C",
        "colab_type": "code",
        "cellView": "form",
        "colab": {}
      },
      "source": [
        "#@title Reading all the salmonella genes from gbk file to dataframe using BioSeqIO parser\n"
      ],
      "execution_count": 0,
      "outputs": []
    },
    {
      "cell_type": "code",
      "metadata": {
        "id": "LurZvBjkHL75",
        "colab_type": "code",
        "colab": {}
      },
      "source": [
        "  def extract(infile):\n",
        "    gene_start=[]\n",
        "    gene_end=[]\n",
        "    gene_strand=[]\n",
        "    gene_name=[]\n",
        "    loc_tag=[]\n",
        "    function=[]\n",
        "    protein_seq=[]\n",
        "    contig_name=[]\n",
        "    unique=[]\n",
        "\n",
        "    for index, record in enumerate(SeqIO.parse(infile, \"genbank\")):\n",
        "      #print(\"index %i, ID = %s, length %i, with %i features\"% (index, record.id, len(record.seq), len(record.features)))\n",
        "      for i in record.features:\n",
        "          if i.type == \"CDS\" and \"gene\" in i.qualifiers:\n",
        "            locations=i.location\n",
        "            gene_start.append(locations.start)\n",
        "            gene_end.append(locations.end)\n",
        "            gene_strand.append(locations.strand)\n",
        "            loc_tag.append(i.qualifiers['locus_tag'])\n",
        "            function.append(i.qualifiers['product'])\n",
        "            protein_seq.append(i.qualifiers['translation']) \n",
        "            gene_name.append(i.qualifiers['gene'])\n",
        "            contig_name.append(record.id)\n",
        "          elif i.type ==\"CDS\":\n",
        "            locations=i.location\n",
        "            gene_start.append(locations.start)\n",
        "            gene_end.append(locations.end)\n",
        "            gene_strand.append(locations.strand)\n",
        "            loc_tag.append(i.qualifiers['locus_tag'])\n",
        "            function.append(i.qualifiers['product'])\n",
        "            protein_seq.append(i.qualifiers['translation']) \n",
        "            gene_name.append(\"Unidentfied\")\n",
        "            contig_name.append(record.id)\n",
        "\n",
        "    salmonella_gene_frame=pd.DataFrame()\n",
        "    salmonella_gene_frame['GeneStart']=gene_start\n",
        "    salmonella_gene_frame['GeneEnd']=gene_end\n",
        "    salmonella_gene_frame['GeneStrand']=gene_strand\n",
        "    salmonella_gene_frame['Locus_Tag']=loc_tag\n",
        "    salmonella_gene_frame['GeneName']=gene_name\n",
        "    salmonella_gene_frame['Product']=function\n",
        "    salmonella_gene_frame['ProteinSequence']=protein_seq\n",
        "    salmonella_gene_frame['contig_name']=contig_name\n",
        "\n",
        "    for i in contig_name:\n",
        "      if i not in unique:\n",
        "        unique.append(i)\n",
        "\n",
        "\n",
        "    return salmonella_gene_frame,unique"
      ],
      "execution_count": 0,
      "outputs": []
    },
    {
      "cell_type": "code",
      "metadata": {
        "id": "PIx8_X0dJynT",
        "colab_type": "code",
        "colab": {}
      },
      "source": [
        "salmonella_gene_frame1,unique1=extract(\"SA20025297.gbk\")\n",
        "salmonella_gene_frame2,unique2a=extract(\"SA20025921.gbk\")\n",
        "salmonella_gene_frame3,unique3=extract(\"SA20026234.gbk\")\n",
        "salmonella_gene_frame4,unique4=extract(\"SA20026289.gbk\")\n",
        "salmonella_gene_frame5,unique5=extract(\"SA20031783.gbk\")\n",
        "salmonella_gene_frame6,unique6=extract(\"SA20035215.gbk\")\n",
        "salmonella_gene_frame8,unique8=extract(\"SA20053897.gbk\")\n",
        "salmonella_gene_frame9,unique9=extract(\"SA20054926.gbk\")\n",
        "salmonella_gene_frame10,unique10=extract(\"SA20022156.gbk\")"
      ],
      "execution_count": 0,
      "outputs": []
    },
    {
      "cell_type": "code",
      "metadata": {
        "id": "DKqPaXT2R7kL",
        "colab_type": "code",
        "colab": {}
      },
      "source": [
        "def make_groups(frame):\n",
        "  group=frame.groupby(frame['contig_name'])\n",
        "  datasets = {}\n",
        "  for groups, data in group:\n",
        "    datasets[groups] = data\n",
        "  return datasets"
      ],
      "execution_count": 0,
      "outputs": []
    },
    {
      "cell_type": "code",
      "metadata": {
        "id": "6f9LCUVESVXV",
        "colab_type": "code",
        "colab": {}
      },
      "source": [
        "datasets1=make_groups(salmonella_gene_frame1)\n",
        "datasets2=make_groups(salmonella_gene_frame2)\n",
        "datasets3=make_groups(salmonella_gene_frame3)\n",
        "datasets4=make_groups(salmonella_gene_frame4)\n",
        "datasets5=make_groups(salmonella_gene_frame5)\n",
        "datasets6=make_groups(salmonella_gene_frame6)\n",
        "datasets8=make_groups(salmonella_gene_frame8)\n",
        "datasets9=make_groups(salmonella_gene_frame9)\n",
        "datasets10=make_groups(salmonella_gene_frame10)"
      ],
      "execution_count": 0,
      "outputs": []
    },
    {
      "cell_type": "code",
      "metadata": {
        "id": "v_sbixXBU7hw",
        "colab_type": "code",
        "colab": {}
      },
      "source": [
        "def find_neighbor(rec,uname,data):\n",
        "  neighbor_genes=[]\n",
        "  for j in range(len(rec['Start'])):\n",
        "    i=rec.loc[j].Start\n",
        "    k=rec.loc[j].req_cont\n",
        "    if k in uname:\n",
        "      u=(data[k].iloc[(data[k]['GeneStart']-i).abs().argsort()[:10]]).sort_values(by=\"GeneStart\")\n",
        "      neighbor_genes.append(u) \n",
        "    else:\n",
        "      print(k)\n",
        "\n",
        "  return neighbor_genes"
      ],
      "execution_count": 0,
      "outputs": []
    },
    {
      "cell_type": "code",
      "metadata": {
        "id": "VzYMj2qjVnu7",
        "colab_type": "code",
        "colab": {
          "base_uri": "https://localhost:8080/",
          "height": 491
        },
        "outputId": "da052a00-b890-42ac-d85d-892a34b8f484"
      },
      "source": [
        "n_genes1=find_neighbor(records1,unique1,datasets1)\n",
        "n_genes2=find_neighbor(records2,unique2,datasets2)\n",
        "n_genes3=find_neighbor(records3,unique3,datasets3)\n",
        "n_genes4=find_neighbor(records4,unique3,datasets4)\n",
        "n_genes5=find_neighbor(records5,unique3,datasets5)\n",
        "n_genes6=find_neighbor(records6,unique3,datasets6)\n",
        "n_genes8=find_neighbor(records8,unique3,datasets8)\n",
        "n_genes9=find_neighbor(records9,unique3,datasets9)\n",
        "n_genes10=find_neighbor(records10,unique3,datasets10)"
      ],
      "execution_count": 93,
      "outputs": [
        {
          "output_type": "stream",
          "text": [
            "contig00035\n",
            "contig00045\n",
            "contig00034\n",
            "contig00029\n",
            "contig00034\n",
            "contig00028\n",
            "contig00046\n",
            "contig00036\n",
            "contig00024\n",
            "contig00025\n",
            "contig00035\n",
            "contig00051\n",
            "contig00026\n",
            "contig00026\n",
            "contig00026\n",
            "contig00028\n",
            "contig00030\n",
            "contig00032\n",
            "contig00034\n",
            "contig00056\n",
            "contig00051\n",
            "contig00035\n",
            "contig00035\n",
            "contig00037\n",
            "contig00041\n",
            "contig00064\n",
            "contig00037\n"
          ],
          "name": "stdout"
        }
      ]
    },
    {
      "cell_type": "code",
      "metadata": {
        "id": "8h1dDrmmpqeo",
        "colab_type": "code",
        "colab": {}
      },
      "source": [
        "# upwardanddownward_SA20025297=pd.DataFrame()\n",
        "# upwardanddownward_SA20025921=pd.DataFrame()\n",
        "# upwardanddownward_SA20026234=pd.DataFrame()\n",
        "# upwardanddownward_SA20026289=pd.DataFrame()"
      ],
      "execution_count": 0,
      "outputs": []
    },
    {
      "cell_type": "code",
      "metadata": {
        "id": "6UPx4L6Npwpn",
        "colab_type": "code",
        "colab": {}
      },
      "source": [
        "neighborhood_SA20025297=n_genes1\n",
        "neighborhood_SA20025921=n_genes2\n",
        "neighborhood_SA20026234=n_genes3\n",
        "neighborhood_SA20026289=n_genes4\n",
        "neighborhood_SA20031783=n_genes5\n",
        "neighborhood_SA20035215=n_genes6\n",
        "neighborhood_SA20053897=n_genes8\n",
        "neighborhood_SA20054926=n_genes9\n",
        "neighborhood_SA20022156=newcon10\n"
      ],
      "execution_count": 0,
      "outputs": []
    },
    {
      "cell_type": "code",
      "metadata": {
        "id": "a8UNlsofqECE",
        "colab_type": "code",
        "colab": {}
      },
      "source": [
        "gbkarray=[salmonella_gene_frame1,salmonella_gene_frame2,salmonella_gene_frame3,salmonella_gene_frame4]\n",
        "\n",
        "for i in gbkarray:\n",
        "  i['GeneStrand'] = i['GeneStrand'].astype(str)\n",
        "  i['GeneStrand']=i['GeneStrand'].replace(\"1\",\"+\")\n",
        "  i['GeneStrand']=i['GeneStrand'].replace(\"-1\",\"-\")"
      ],
      "execution_count": 0,
      "outputs": []
    },
    {
      "cell_type": "code",
      "metadata": {
        "id": "F1AKjIgerkrx",
        "colab_type": "code",
        "colab": {}
      },
      "source": [
        "carin1=records1[records1['Drug Class'].str.contains('carbapene')]\n",
        "carin2=records2[records2['Drug Class'].str.contains('carbapene')]\n",
        "carin3=records3[records3['Drug Class'].str.contains('carbapene')]\n",
        "carin4=records4[records4['Drug Class'].str.contains('carbapene')]\n",
        "carin5=records5[records5['Drug Class'].str.contains('carbapene')]\n",
        "carin6=records6[records6['Drug Class'].str.contains('carbapene')]\n",
        "#carin7=records7[records7['Drug Class'].str.contains('carbapene')]\n",
        "carin8=records8[records8['Drug Class'].str.contains('carbapene')]\n",
        "carin9=records9[records9['Drug Class'].str.contains('carbapene')]\n",
        "carin10=records10[records10['Drug Class'].str.contains('carbapene')]"
      ],
      "execution_count": 0,
      "outputs": []
    },
    {
      "cell_type": "code",
      "metadata": {
        "id": "dYfxo0NMazUj",
        "colab_type": "code",
        "colab": {
          "base_uri": "https://localhost:8080/",
          "height": 140
        },
        "outputId": "3d47d209-a170-4b96-ae94-f2a981fecd4b"
      },
      "source": [
        "carin10['Drug Class']"
      ],
      "execution_count": 99,
      "outputs": [
        {
          "output_type": "execute_result",
          "data": {
            "text/plain": [
              "4     fluoroquinolone antibiotic; monobactam; carbap...\n",
              "11    monobactam; carbapenem; cephalosporin; cephamy...\n",
              "12    monobactam; carbapenem; cephalosporin; cephamy...\n",
              "13    monobactam; carbapenem; cephalosporin; cephamy...\n",
              "14    monobactam; carbapenem; cephalosporin; cephamy...\n",
              "44    fluoroquinolone antibiotic; monobactam; carbap...\n",
              "Name: Drug Class, dtype: object"
            ]
          },
          "metadata": {
            "tags": []
          },
          "execution_count": 99
        }
      ]
    },
    {
      "cell_type": "code",
      "metadata": {
        "id": "EPpUCg-3r8So",
        "colab_type": "code",
        "colab": {}
      },
      "source": [
        "uparray1=[]\n",
        "rgigene1=[]\n",
        "for i in range(0,4):\n",
        "   uparray1.append([n_genes1[i]['Locus_Tag'],n_genes1[i]['ProteinSequence']])\n",
        "   rgigene1.append([carin1['Contig'][i],carin1['Predicted_Protein'][i]])\n",
        "   "
      ],
      "execution_count": 0,
      "outputs": []
    },
    {
      "cell_type": "code",
      "metadata": {
        "id": "PzRWJ4oasBem",
        "colab_type": "code",
        "colab": {}
      },
      "source": [
        "uparray2=[]\n",
        "rgigene2=[]\n",
        "for i in range(4,8):\n",
        "  uparray2.append([n_genes2[i]['Locus_Tag'],n_genes2[i]['ProteinSequence']])\n",
        "  rgigene2.append([carin2['Contig'][i],carin2['Predicted_Protein'][i]])\n",
        "  "
      ],
      "execution_count": 0,
      "outputs": []
    },
    {
      "cell_type": "code",
      "metadata": {
        "id": "uBik0GkbsCT1",
        "colab_type": "code",
        "colab": {}
      },
      "source": [
        "uparray3=[]\n",
        "rgigene3=[]\n",
        "for i in range(26,30):\n",
        "  uparray3.append([n_genes3[i]['Locus_Tag'],n_genes3[i]['ProteinSequence']])\n",
        "  rgigene3.append([carin3['Contig'][i],carin3['Predicted_Protein'][i]])"
      ],
      "execution_count": 0,
      "outputs": []
    },
    {
      "cell_type": "code",
      "metadata": {
        "id": "7N09XyZKsE6X",
        "colab_type": "code",
        "colab": {}
      },
      "source": [
        "uparray4=[]\n",
        "rgigene4=[]\n",
        "\n",
        "for i in range(20,24):\n",
        "  uparray4.append([n_genes4[i]['Locus_Tag'],n_genes4[i]['ProteinSequence']])\n",
        "  rgigene4.append([carin4['Contig'][i],carin4['Predicted_Protein'][i]])"
      ],
      "execution_count": 0,
      "outputs": []
    },
    {
      "cell_type": "code",
      "metadata": {
        "id": "HdozsuZkf2wh",
        "colab_type": "code",
        "colab": {
          "base_uri": "https://localhost:8080/",
          "height": 87
        },
        "outputId": "5d045bee-a6ec-4aa2-d665-d5d86394fffc"
      },
      "source": [
        "uparray5=[]\n",
        "rgigene5=[]\n",
        "for i in range(12,16):\n",
        "  print(i)\n",
        "  uparray5.append([n_genes5[i]['Locus_Tag'],n_genes5[i]['ProteinSequence']])\n",
        "  rgigene5.append([carin5['Contig'][i],carin5['Predicted_Protein'][i]])"
      ],
      "execution_count": 104,
      "outputs": [
        {
          "output_type": "stream",
          "text": [
            "12\n",
            "13\n",
            "14\n",
            "15\n"
          ],
          "name": "stdout"
        }
      ]
    },
    {
      "cell_type": "code",
      "metadata": {
        "id": "6EQkYAodjjJo",
        "colab_type": "code",
        "colab": {
          "base_uri": "https://localhost:8080/",
          "height": 87
        },
        "outputId": "a317c11f-124d-411e-9cc0-51603dc936b1"
      },
      "source": [
        "uparray6=[]\n",
        "rgigene6=[]\n",
        "for i in range(17,21):\n",
        "  print(i)\n",
        "  uparray6.append([n_genes6[i]['Locus_Tag'],n_genes6[i]['ProteinSequence']])\n",
        "  rgigene6.append([carin6['Contig'][i],carin6['Predicted_Protein'][i]])"
      ],
      "execution_count": 105,
      "outputs": [
        {
          "output_type": "stream",
          "text": [
            "17\n",
            "18\n",
            "19\n",
            "20\n"
          ],
          "name": "stdout"
        }
      ]
    },
    {
      "cell_type": "code",
      "metadata": {
        "id": "t1_mfs9Yj1en",
        "colab_type": "code",
        "colab": {
          "base_uri": "https://localhost:8080/",
          "height": 87
        },
        "outputId": "1d639a77-1cb6-4f70-b1ba-8b43ba1a3523"
      },
      "source": [
        "uparray8=[]\n",
        "rgigene8=[]\n",
        "for i in range(14,18):\n",
        "  print(i)\n",
        "  uparray8.append([n_genes8[i]['Locus_Tag'],n_genes8[i]['ProteinSequence']])\n",
        "  rgigene8.append([carin8['Contig'][i],carin8['Predicted_Protein'][i]])"
      ],
      "execution_count": 106,
      "outputs": [
        {
          "output_type": "stream",
          "text": [
            "14\n",
            "15\n",
            "16\n",
            "17\n"
          ],
          "name": "stdout"
        }
      ]
    },
    {
      "cell_type": "code",
      "metadata": {
        "id": "1AqCjoEvkDDV",
        "colab_type": "code",
        "colab": {
          "base_uri": "https://localhost:8080/",
          "height": 87
        },
        "outputId": "7fbff1e7-73d2-41a1-bc79-0e69656cc6e6"
      },
      "source": [
        "uparray9=[]\n",
        "rgigene9=[]\n",
        "for i in range(7,11):\n",
        "  print(i)\n",
        "  uparray9.append([n_genes9[i]['Locus_Tag'],n_genes9[i]['ProteinSequence']])\n",
        "  rgigene9.append([carin9['Contig'][i],carin9['Predicted_Protein'][i]])"
      ],
      "execution_count": 107,
      "outputs": [
        {
          "output_type": "stream",
          "text": [
            "7\n",
            "8\n",
            "9\n",
            "10\n"
          ],
          "name": "stdout"
        }
      ]
    },
    {
      "cell_type": "code",
      "metadata": {
        "id": "12ya8ULqkTkn",
        "colab_type": "code",
        "colab": {
          "base_uri": "https://localhost:8080/",
          "height": 87
        },
        "outputId": "342c0eac-93cf-4c7b-832b-2e0baa9414bf"
      },
      "source": [
        "uparray10=[]\n",
        "rgigene10=[]\n",
        "for i in range(11,15):\n",
        "  print(i)\n",
        "  uparray10.append([n_genes10[i]['Locus_Tag'],n_genes10[10]['ProteinSequence']])\n",
        "  rgigene10.append([carin10['Contig'][i],carin10['Predicted_Protein'][i]])"
      ],
      "execution_count": 108,
      "outputs": [
        {
          "output_type": "stream",
          "text": [
            "11\n",
            "12\n",
            "13\n",
            "14\n"
          ],
          "name": "stdout"
        }
      ]
    },
    {
      "cell_type": "code",
      "metadata": {
        "id": "RKmAUUHRsHYL",
        "colab_type": "code",
        "colab": {}
      },
      "source": [
        "uparraylist=[uparray1,uparray2,uparray3,uparray4,uparray5,uparray6,uparray8,uparray9,uparray10]\n",
        "rgiarray=[rgigene1,rgigene2,rgigene3,rgigene4,rgigene5,rgigene6,rgigene8,rgigene9,rgigene10]\n",
        "#filenames=[\"SA20025297\",\"SA20025921\",\"SA20026234\",\"SA20026289\",\"SA20031783\",\"SA20035215\",\"SA20053897\",\"SA20054926\",\"SA20022156\"]\n",
        "ua=[]\n",
        "da=[]\n",
        "ra=[]\n",
        "\n",
        "for f in range(len(uparraylist)):\n",
        "  for j in uparraylist[f]:\n",
        "    for k in j[0]:\n",
        "      ua.append(str(k))\n",
        "\n",
        "ub=[]\n",
        "for i in uparraylist:\n",
        "  for j in i:\n",
        "    for k in j[1]:\n",
        "      ub.append(k)"
      ],
      "execution_count": 0,
      "outputs": []
    },
    {
      "cell_type": "code",
      "metadata": {
        "id": "RkPTOijQmbJa",
        "colab_type": "code",
        "colab": {}
      },
      "source": [
        "ra=[]\n",
        "rb=[]\n",
        "for i in range(len(rgiarray)):\n",
        "  for j in rgiarray[i]:\n",
        "      ra.append(str(j[0]))\n",
        "\n",
        "for i in rgiarray:\n",
        "  for j in i:\n",
        "    rb.append(j[1])"
      ],
      "execution_count": 0,
      "outputs": []
    },
    {
      "cell_type": "code",
      "metadata": {
        "id": "Psb_hsptsdRo",
        "colab_type": "code",
        "colab": {}
      },
      "source": [
        "filef=open(\"genefile.fasta\",\"w\")\n",
        "for i in range(len(ua)):\n",
        "  filef.writelines(\">\" + ua[i])\n",
        "  filef.write(\"\\n\")\n",
        "  filef.writelines(ub[i])\n",
        "  filef.write(\"\\n\")\n",
        "for i in range(len(ra)):\n",
        "  filef.writelines(\">\" + ra[i])\n",
        "  filef.write(\"\\n\")\n",
        "  filef.writelines(rb[i])\n",
        "  filef.write(\"\\n\")\n",
        "filef.close()"
      ],
      "execution_count": 0,
      "outputs": []
    },
    {
      "cell_type": "code",
      "metadata": {
        "id": "rR_mQZkkQbnJ",
        "colab_type": "code",
        "colab": {}
      },
      "source": [
        "first_gene_up_down_SA20025297=upwardanddownward_SA20025297[0].to_csv(\"first_gene_up_down_SA20025297.csv\",index=False)\n",
        "second_gene_up_down_SA20025297=upwardanddownward_SA20025297[1].to_csv(\"second_gene_up_down_SA20025297.csv\",index=False)\n",
        "third_gene_up_down_SA20025297=upwardanddownward_SA20025297[2].to_csv(\"third_gene_up_down_SA20025297.csv\",index=False)\n",
        "fourth_gene_up_down_SA20025297=upwardanddownward_SA20025297[3].to_csv(\"fourth_gene_up_down_SA20025297.csv\",index=False)"
      ],
      "execution_count": 0,
      "outputs": []
    },
    {
      "cell_type": "code",
      "metadata": {
        "id": "J9VYtGVMV9wo",
        "colab_type": "code",
        "colab": {}
      },
      "source": [
        "first_gene_up_down_SA20025921=upwardanddownward_SA20025921[4].to_csv(\"first_gene_up_down_SA20025921.csv\",index=False)\n",
        "second_gene_up_down_SA20025921=upwardanddownward_SA20025921[5].to_csv(\"second_gene_up_down_SA20025921.csv\",index=False)\n",
        "third_gene_up_down_SA20025921=upwardanddownward_SA20025921[6].to_csv(\"third_gene_up_down_SA20025921.csv\",index=False)\n",
        "fourth_gene_up_down_SA20025921=upwardanddownward_SA20025921[7].to_csv(\"fourth_gene_up_down_SA20025921.csv\",index=False)"
      ],
      "execution_count": 0,
      "outputs": []
    },
    {
      "cell_type": "code",
      "metadata": {
        "id": "CX6gpsEjWCWV",
        "colab_type": "code",
        "colab": {}
      },
      "source": [
        "first_gene_up_down_SA20026234=upwardanddownward_SA20026234[26].to_csv(\"first_gene_up_down_SA20026234.csv\",index=False)\n",
        "second_gene_up_down_SA20026234=upwardanddownward_SA20026234[27].to_csv(\"second_gene_up_down_SA20026234.csv\",index=False)\n",
        "third_gene_up_down_SA20026234=upwardanddownward_SA20026234[28].to_csv(\"third_gene_up_down_SA20026234.csv\",index=False)\n",
        "fourth_gene_up_down_SA20026234=upwardanddownward_SA20026234[29].to_csv(\"fourth_gene_up_down_SA20026234.csv\",index=False)"
      ],
      "execution_count": 0,
      "outputs": []
    },
    {
      "cell_type": "code",
      "metadata": {
        "id": "tNpIXQzkYZFf",
        "colab_type": "code",
        "colab": {}
      },
      "source": [
        "first_gene_up_down_SA20026289=upwardanddownward_SA20026289[20].to_csv(\"first_gene_up_down_SA20026289.csv\",index=False)\n",
        "second_gene_up_down_SA20026289=upwardanddownward_SA20026289[21].to_csv(\"second_gene_up_down_SA20026289.csv\",index=False)\n",
        "third_gene_up_down_SA20026289=upwardanddownward_SA20026289[22].to_csv(\"third_gene_up_down_SA20026289.csv\",index=False)\n",
        "fourth_gene_up_down_SA20026289=upwardanddownward_SA20026289[23].to_csv(\"fourth_gene_up_down_SA20026289.csv\",index=False)"
      ],
      "execution_count": 0,
      "outputs": []
    },
    {
      "cell_type": "code",
      "metadata": {
        "id": "wYnA1t2otcum",
        "colab_type": "code",
        "colab": {}
      },
      "source": [
        "#filenames=[\"SA20025297\",\"SA20025921\",\"SA20026234\",\"SA20026289\",\"SA20031783\",\"SA20035215\",\"SA20053897\",\"SA20054926\",\"SA20022156\"]"
      ],
      "execution_count": 0,
      "outputs": []
    },
    {
      "cell_type": "code",
      "metadata": {
        "colab_type": "code",
        "id": "sYE5oVDkside",
        "colab": {}
      },
      "source": [
        "upwardanddownward_SA20031783[12].to_csv(\"first_gene_up_down_SA20026289.csv\",index=False)\n",
        "upwardanddownward_SA20031783[13].to_csv(\"second_gene_up_down_SA20026289.csv\",index=False)\n",
        "upwardanddownward_SA20031783[14].to_csv(\"third_gene_up_down_SA20026289.csv\",index=False)\n",
        "upwardanddownward_SA20031783[15].to_csv(\"fourth_gene_up_down_SA20026289.csv\",index=False)"
      ],
      "execution_count": 0,
      "outputs": []
    },
    {
      "cell_type": "code",
      "metadata": {
        "id": "Il88GKVhuN0W",
        "colab_type": "code",
        "colab": {}
      },
      "source": [
        ""
      ],
      "execution_count": 0,
      "outputs": []
    }
  ]
}